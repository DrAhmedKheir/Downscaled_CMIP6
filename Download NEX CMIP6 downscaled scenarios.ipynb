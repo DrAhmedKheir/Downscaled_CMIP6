{
 "cells": [
  {
   "cell_type": "code",
   "execution_count": 1,
   "id": "ee6d468b",
   "metadata": {},
   "outputs": [
    {
     "name": "stdout",
     "output_type": "stream",
     "text": [
      "Requirement already satisfied: cmip6d in c:\\users\\dell\\anaconda3\\lib\\site-packages (1.1)\n",
      "Requirement already satisfied: beautifulsoup4 in c:\\users\\dell\\anaconda3\\lib\\site-packages (from cmip6d) (4.11.1)\n",
      "Requirement already satisfied: soupsieve>1.2 in c:\\users\\dell\\anaconda3\\lib\\site-packages (from beautifulsoup4->cmip6d) (2.3.2.post1)\n",
      "Note: you may need to restart the kernel to use updated packages.\n"
     ]
    }
   ],
   "source": [
    "pip install cmip6d"
   ]
  },
  {
   "cell_type": "code",
   "execution_count": 2,
   "id": "325d8a11",
   "metadata": {},
   "outputs": [
    {
     "name": "stdout",
     "output_type": "stream",
     "text": [
      "Requirement already satisfied: wget in c:\\users\\dell\\anaconda3\\lib\\site-packages (3.2)\n",
      "Note: you may need to restart the kernel to use updated packages.\n"
     ]
    }
   ],
   "source": [
    "pip install wget"
   ]
  },
  {
   "cell_type": "code",
   "execution_count": 3,
   "id": "fb775fb2",
   "metadata": {},
   "outputs": [
    {
     "name": "stdout",
     "output_type": "stream",
     "text": [
      "Requirement already satisfied: xarray in c:\\users\\dell\\anaconda3\\lib\\site-packages (2023.2.1.dev27+gc358d830)\n",
      "Requirement already satisfied: numpy>=1.21 in c:\\users\\dell\\anaconda3\\lib\\site-packages (from xarray) (1.21.5)\n",
      "Requirement already satisfied: pandas>=1.4 in c:\\users\\dell\\anaconda3\\lib\\site-packages (from xarray) (1.4.4)\n",
      "Requirement already satisfied: packaging>=21.3 in c:\\users\\dell\\anaconda3\\lib\\site-packages (from xarray) (21.3)\n",
      "Requirement already satisfied: pyparsing!=3.0.5,>=2.0.2 in c:\\users\\dell\\anaconda3\\lib\\site-packages (from packaging>=21.3->xarray) (3.0.9)\n",
      "Requirement already satisfied: python-dateutil>=2.8.1 in c:\\users\\dell\\anaconda3\\lib\\site-packages (from pandas>=1.4->xarray) (2.8.2)\n",
      "Requirement already satisfied: pytz>=2020.1 in c:\\users\\dell\\anaconda3\\lib\\site-packages (from pandas>=1.4->xarray) (2022.1)\n",
      "Requirement already satisfied: six>=1.5 in c:\\users\\dell\\anaconda3\\lib\\site-packages (from python-dateutil>=2.8.1->pandas>=1.4->xarray) (1.16.0)\n",
      "Note: you may need to restart the kernel to use updated packages.\n"
     ]
    }
   ],
   "source": [
    "pip install xarray"
   ]
  },
  {
   "cell_type": "code",
   "execution_count": 4,
   "id": "3a1fe394",
   "metadata": {},
   "outputs": [
    {
     "name": "stdout",
     "output_type": "stream",
     "text": [
      "Requirement already satisfied: beautifulsoup4 in c:\\users\\dell\\anaconda3\\lib\\site-packages (4.11.1)\n",
      "Requirement already satisfied: soupsieve>1.2 in c:\\users\\dell\\anaconda3\\lib\\site-packages (from beautifulsoup4) (2.3.2.post1)\n",
      "Note: you may need to restart the kernel to use updated packages.\n"
     ]
    }
   ],
   "source": [
    "pip install beautifulsoup4"
   ]
  },
  {
   "cell_type": "code",
   "execution_count": 5,
   "id": "6f1cc319",
   "metadata": {},
   "outputs": [],
   "source": [
    "from cmip6d import cmip6d"
   ]
  },
  {
   "cell_type": "code",
   "execution_count": 6,
   "id": "ea15d711",
   "metadata": {},
   "outputs": [],
   "source": [
    "out_path = 'C:/Users/DELL/OneDrive - CGIAR/test' # Defines your output folder\n",
    "coords = [25,35,22,32] # xmin,xmax,ymin,ymax\n",
    "models = [] # If empty, downloads everything, if not, downloads specified packages\n",
    "ssp=['ssp245','ssp585'] # DEFAULT VARIABLE. Target scenarios from the NASA server\n",
    "variables = ['pr','tasmax','tasmin'] # DEFAULT VARIABLE. Target variables from the NASA server"
   ]
  },
  {
   "cell_type": "code",
   "execution_count": 7,
   "id": "5fe5c080",
   "metadata": {},
   "outputs": [],
   "source": [
    "cc = cmip6d(out_path,coords,models,variables=variables,ssp=ssp)"
   ]
  },
  {
   "cell_type": "code",
   "execution_count": 8,
   "id": "7876829a",
   "metadata": {},
   "outputs": [
    {
     "name": "stdout",
     "output_type": "stream",
     "text": [
      "Requirement already satisfied: sudo in c:\\users\\dell\\anaconda3\\lib\\site-packages (1.0.0)Note: you may need to restart the kernel to use updated packages.\n",
      "\n",
      "Requirement already satisfied: pip in c:\\users\\dell\\anaconda3\\lib\\site-packages (23.1.1)\n",
      "Requirement already satisfied: install in c:\\users\\dell\\anaconda3\\lib\\site-packages (1.3.5)\n",
      "Requirement already satisfied: bs4 in c:\\users\\dell\\anaconda3\\lib\\site-packages (0.0.1)\n",
      "Requirement already satisfied: beautifulsoup4 in c:\\users\\dell\\anaconda3\\lib\\site-packages (from bs4) (4.11.1)\n",
      "Requirement already satisfied: soupsieve>1.2 in c:\\users\\dell\\anaconda3\\lib\\site-packages (from beautifulsoup4->bs4) (2.3.2.post1)\n"
     ]
    }
   ],
   "source": [
    "pip install sudo pip install --upgrade bs4"
   ]
  },
  {
   "cell_type": "code",
   "execution_count": 9,
   "id": "59a73de8",
   "metadata": {},
   "outputs": [
    {
     "name": "stdout",
     "output_type": "stream",
     "text": [
      "Requirement already satisfied: bs4 in c:\\users\\dell\\anaconda3\\lib\\site-packages (0.0.1)\n",
      "Requirement already satisfied: beautifulsoup4 in c:\\users\\dell\\anaconda3\\lib\\site-packages (from bs4) (4.11.1)\n",
      "Requirement already satisfied: soupsieve>1.2 in c:\\users\\dell\\anaconda3\\lib\\site-packages (from beautifulsoup4->bs4) (2.3.2.post1)\n",
      "Note: you may need to restart the kernel to use updated packages.\n"
     ]
    }
   ],
   "source": [
    "pip install bs4"
   ]
  },
  {
   "cell_type": "code",
   "execution_count": 10,
   "id": "ce11e1e8",
   "metadata": {},
   "outputs": [
    {
     "name": "stdout",
     "output_type": "stream",
     "text": [
      "Requirement already satisfied: html5lib in c:\\users\\dell\\anaconda3\\lib\\site-packages (1.1)\n",
      "Requirement already satisfied: six>=1.9 in c:\\users\\dell\\anaconda3\\lib\\site-packages (from html5lib) (1.16.0)\n",
      "Requirement already satisfied: webencodings in c:\\users\\dell\\anaconda3\\lib\\site-packages (from html5lib) (0.5.1)\n",
      "Note: you may need to restart the kernel to use updated packages.\n"
     ]
    }
   ],
   "source": [
    "pip install html5lib"
   ]
  },
  {
   "cell_type": "code",
   "execution_count": 11,
   "id": "f1bb1f6b",
   "metadata": {},
   "outputs": [
    {
     "name": "stdout",
     "output_type": "stream",
     "text": [
      "Requirement already satisfied: lxml in c:\\users\\dell\\anaconda3\\lib\\site-packages (4.9.1)\n",
      "Note: you may need to restart the kernel to use updated packages.\n"
     ]
    }
   ],
   "source": [
    "pip install lxml"
   ]
  },
  {
   "cell_type": "code",
   "execution_count": 12,
   "id": "2f42e2d0",
   "metadata": {},
   "outputs": [
    {
     "name": "stdout",
     "output_type": "stream",
     "text": [
      "Starting UKESM1-0-LL/\n",
      "Starting TaiESM1/\n",
      "Starting NorESM2-MM/\n",
      "Starting NorESM2-LM/\n",
      "Starting NESM3/\n",
      "Starting MRI-ESM2-0/\n",
      "Starting MPI-ESM1-2-LR/\n",
      "Starting MPI-ESM1-2-HR/\n",
      "Starting MIROC6/\n",
      "Starting MIROC-ES2L/\n",
      "Starting KIOST-ESM/\n",
      "Starting KACE-1-0-G/\n",
      "Starting IPSL-CM6A-LR/\n",
      "Starting INM-CM5-0/\n",
      "Starting INM-CM4-8/\n",
      "Starting IITM-ESM/\n",
      "Skipped IITM-ESM/ - ssp585/ - variables not found\n",
      "Starting HadGEM3-GC31-MM/\n",
      "Skipped HadGEM3-GC31-MM/ - ssp not found\n",
      "Starting HadGEM3-GC31-LL/\n",
      "Starting GISS-E2-1-G/\n",
      "Starting GFDL-ESM4/\n",
      "Starting GFDL-CM4_gr2/\n",
      "Starting GFDL-CM4/\n",
      "Starting FGOALS-g3/\n",
      "Starting EC-Earth3-Veg-LR/\n",
      "Starting EC-Earth3/\n",
      "Starting CanESM5/\n",
      "Starting CNRM-ESM2-1/\n",
      "Starting CNRM-CM6-1/\n",
      "Starting CMCC-ESM2/\n",
      "Starting CMCC-CM2-SR5/\n",
      "Starting CESM2-WACCM/\n",
      "Skipped CESM2-WACCM/ - ssp585/ - variables not found\n",
      "Starting CESM2/\n",
      "Skipped CESM2/ - ssp585/ - variables not found\n",
      "Starting BCC-CSM2-MR/\n",
      "Starting ACCESS-ESM1-5/\n",
      "Starting ACCESS-CM2/\n"
     ]
    }
   ],
   "source": [
    "cc.get_links(out_path,check_links=True)"
   ]
  },
  {
   "cell_type": "code",
   "execution_count": 13,
   "id": "9dce17df",
   "metadata": {},
   "outputs": [
    {
     "name": "stdout",
     "output_type": "stream",
     "text": [
      "\n",
      " Downloading ACCESS-CM2 ssp245 pr\n",
      "100% [..........................................................................] 2461184 / 2461184\n",
      " Downloading ACCESS-CM2 ssp245 tasmax\n",
      "100% [..........................................................................] 2461276 / 2461276\n",
      " Downloading ACCESS-CM2 ssp245 tasmin\n",
      "100% [..........................................................................] 2461244 / 2461244\n",
      " Downloading ACCESS-CM2 ssp585 pr\n",
      "100% [..........................................................................] 2461184 / 2461184\n",
      " Downloading ACCESS-CM2 ssp585 tasmax\n",
      "100% [..........................................................................] 2461276 / 2461276\n",
      " Downloading ACCESS-CM2 ssp585 tasmin\n",
      "100% [..........................................................................] 2461244 / 2461244\n",
      " Downloading ACCESS-ESM1-5 ssp245 pr\n",
      "100% [..........................................................................] 2461192 / 2461192\n",
      " Downloading ACCESS-ESM1-5 ssp245 tasmax\n",
      "100% [..........................................................................] 2461284 / 2461284\n",
      " Downloading ACCESS-ESM1-5 ssp245 tasmin\n",
      "100% [..........................................................................] 2461252 / 2461252\n",
      " Downloading ACCESS-ESM1-5 ssp585 pr\n",
      "100% [..........................................................................] 2461192 / 2461192\n",
      " Downloading ACCESS-ESM1-5 ssp585 tasmax\n",
      "100% [..........................................................................] 2461284 / 2461284\n",
      " Downloading ACCESS-ESM1-5 ssp585 tasmin\n",
      "100% [..........................................................................] 2461252 / 2461252\n",
      " Downloading BCC-CSM2-MR ssp245 pr\n",
      "100% [..........................................................................] 2461228 / 2461228\n",
      " Downloading BCC-CSM2-MR ssp245 tasmax\n",
      "100% [..........................................................................] 2461320 / 2461320\n",
      " Downloading BCC-CSM2-MR ssp245 tasmin\n",
      "100% [..........................................................................] 2461228 / 2461228\n",
      " Downloading BCC-CSM2-MR ssp585 pr\n",
      "100% [..........................................................................] 2461228 / 2461228\n",
      " Downloading BCC-CSM2-MR ssp585 tasmax\n",
      "100% [..........................................................................] 2461320 / 2461320\n",
      " Downloading BCC-CSM2-MR ssp585 tasmin\n",
      "100% [..........................................................................] 2461228 / 2461228\n",
      " Downloading CanESM5 ssp245 pr\n",
      "100% [..........................................................................] 2461196 / 2461196\n",
      " Downloading CanESM5 ssp245 tasmax\n",
      "100% [..........................................................................] 2461288 / 2461288\n",
      " Downloading CanESM5 ssp245 tasmin\n",
      "100% [..........................................................................] 2461224 / 2461224\n",
      " Downloading CanESM5 ssp585 pr\n",
      "100% [..........................................................................] 2461196 / 2461196\n",
      " Downloading CanESM5 ssp585 tasmax\n",
      "100% [..........................................................................] 2461288 / 2461288\n",
      " Downloading CanESM5 ssp585 tasmin\n",
      "100% [..........................................................................] 2461224 / 2461224\n",
      " Downloading CMCC-CM2-SR5 ssp245 pr\n",
      "100% [..........................................................................] 2461204 / 2461204"
     ]
    },
    {
     "ename": "URLError",
     "evalue": "<urlopen error [WinError 10060] A connection attempt failed because the connected party did not properly respond after a period of time, or established connection failed because connected host has failed to respond>",
     "output_type": "error",
     "traceback": [
      "\u001b[1;31m---------------------------------------------------------------------------\u001b[0m",
      "\u001b[1;31mRemoteTraceback\u001b[0m                           Traceback (most recent call last)",
      "\u001b[1;31mRemoteTraceback\u001b[0m: \n\"\"\"\nTraceback (most recent call last):\n  File \"C:\\Users\\DELL\\anaconda3\\lib\\urllib\\request.py\", line 1346, in do_open\n    h.request(req.get_method(), req.selector, req.data, headers,\n  File \"C:\\Users\\DELL\\anaconda3\\lib\\http\\client.py\", line 1285, in request\n    self._send_request(method, url, body, headers, encode_chunked)\n  File \"C:\\Users\\DELL\\anaconda3\\lib\\http\\client.py\", line 1331, in _send_request\n    self.endheaders(body, encode_chunked=encode_chunked)\n  File \"C:\\Users\\DELL\\anaconda3\\lib\\http\\client.py\", line 1280, in endheaders\n    self._send_output(message_body, encode_chunked=encode_chunked)\n  File \"C:\\Users\\DELL\\anaconda3\\lib\\http\\client.py\", line 1040, in _send_output\n    self.send(msg)\n  File \"C:\\Users\\DELL\\anaconda3\\lib\\http\\client.py\", line 980, in send\n    self.connect()\n  File \"C:\\Users\\DELL\\anaconda3\\lib\\http\\client.py\", line 1447, in connect\n    super().connect()\n  File \"C:\\Users\\DELL\\anaconda3\\lib\\http\\client.py\", line 946, in connect\n    self.sock = self._create_connection(\n  File \"C:\\Users\\DELL\\anaconda3\\lib\\socket.py\", line 844, in create_connection\n    raise err\n  File \"C:\\Users\\DELL\\anaconda3\\lib\\socket.py\", line 832, in create_connection\n    sock.connect(sa)\nTimeoutError: [WinError 10060] A connection attempt failed because the connected party did not properly respond after a period of time, or established connection failed because connected host has failed to respond\n\nDuring handling of the above exception, another exception occurred:\n\nTraceback (most recent call last):\n  File \"C:\\Users\\DELL\\anaconda3\\lib\\multiprocessing\\pool.py\", line 125, in worker\n    result = (True, func(*args, **kwds))\n  File \"C:\\Users\\DELL\\anaconda3\\lib\\multiprocessing\\pool.py\", line 48, in mapstar\n    return list(map(*args))\n  File \"C:\\Users\\DELL\\anaconda3\\lib\\site-packages\\cmip6d\\cmip6d.py\", line 178, in work_log\n    wget.download(work_data,self.var_path)\n  File \"C:\\Users\\DELL\\anaconda3\\lib\\site-packages\\wget.py\", line 526, in download\n    (tmpfile, headers) = ulib.urlretrieve(binurl, tmpfile, callback)\n  File \"C:\\Users\\DELL\\anaconda3\\lib\\urllib\\request.py\", line 239, in urlretrieve\n    with contextlib.closing(urlopen(url, data)) as fp:\n  File \"C:\\Users\\DELL\\anaconda3\\lib\\urllib\\request.py\", line 214, in urlopen\n    return opener.open(url, data, timeout)\n  File \"C:\\Users\\DELL\\anaconda3\\lib\\urllib\\request.py\", line 517, in open\n    response = self._open(req, data)\n  File \"C:\\Users\\DELL\\anaconda3\\lib\\urllib\\request.py\", line 534, in _open\n    result = self._call_chain(self.handle_open, protocol, protocol +\n  File \"C:\\Users\\DELL\\anaconda3\\lib\\urllib\\request.py\", line 494, in _call_chain\n    result = func(*args)\n  File \"C:\\Users\\DELL\\anaconda3\\lib\\urllib\\request.py\", line 1389, in https_open\n    return self.do_open(http.client.HTTPSConnection, req,\n  File \"C:\\Users\\DELL\\anaconda3\\lib\\urllib\\request.py\", line 1349, in do_open\n    raise URLError(err)\nurllib.error.URLError: <urlopen error [WinError 10060] A connection attempt failed because the connected party did not properly respond after a period of time, or established connection failed because connected host has failed to respond>\n\"\"\"",
      "\nThe above exception was the direct cause of the following exception:\n",
      "\u001b[1;31mURLError\u001b[0m                                  Traceback (most recent call last)",
      "Cell \u001b[1;32mIn [13], line 2\u001b[0m\n\u001b[0;32m      1\u001b[0m \u001b[38;5;66;03m#To download the links you need to specify a number of workers \"nworker\", which speeds up the download. Once completed these step you will have all the netcdf files for your climate change model, these can be loaded with xarray or whatever other method you prefer.\u001b[39;00m\n\u001b[1;32m----> 2\u001b[0m \u001b[43mcc\u001b[49m\u001b[38;5;241;43m.\u001b[39;49m\u001b[43mdownload_links\u001b[49m\u001b[43m(\u001b[49m\u001b[43mnworker\u001b[49m\u001b[38;5;241;43m=\u001b[39;49m\u001b[38;5;241;43m4\u001b[39;49m\u001b[43m)\u001b[49m\n",
      "File \u001b[1;32m~\\anaconda3\\lib\\site-packages\\cmip6d\\cmip6d.py:176\u001b[0m, in \u001b[0;36mcmip6d.download_links\u001b[1;34m(self, nworker)\u001b[0m\n\u001b[0;32m    174\u001b[0m     \u001b[38;5;28;01mcontinue\u001b[39;00m\n\u001b[0;32m    175\u001b[0m p \u001b[38;5;241m=\u001b[39m Pool(nworker)\n\u001b[1;32m--> 176\u001b[0m \u001b[43mp\u001b[49m\u001b[38;5;241;43m.\u001b[39;49m\u001b[43mmap\u001b[49m\u001b[43m(\u001b[49m\u001b[38;5;28;43mself\u001b[39;49m\u001b[38;5;241;43m.\u001b[39;49m\u001b[43mwork_log\u001b[49m\u001b[43m,\u001b[49m\u001b[43m \u001b[49m\u001b[43mwork\u001b[49m\u001b[43m[\u001b[49m\u001b[38;5;241;43m1\u001b[39;49m\u001b[43m:\u001b[49m\u001b[43m]\u001b[49m\u001b[43m)\u001b[49m\n",
      "File \u001b[1;32m~\\anaconda3\\lib\\multiprocessing\\pool.py:364\u001b[0m, in \u001b[0;36mPool.map\u001b[1;34m(self, func, iterable, chunksize)\u001b[0m\n\u001b[0;32m    359\u001b[0m \u001b[38;5;28;01mdef\u001b[39;00m \u001b[38;5;21mmap\u001b[39m(\u001b[38;5;28mself\u001b[39m, func, iterable, chunksize\u001b[38;5;241m=\u001b[39m\u001b[38;5;28;01mNone\u001b[39;00m):\n\u001b[0;32m    360\u001b[0m     \u001b[38;5;124;03m'''\u001b[39;00m\n\u001b[0;32m    361\u001b[0m \u001b[38;5;124;03m    Apply `func` to each element in `iterable`, collecting the results\u001b[39;00m\n\u001b[0;32m    362\u001b[0m \u001b[38;5;124;03m    in a list that is returned.\u001b[39;00m\n\u001b[0;32m    363\u001b[0m \u001b[38;5;124;03m    '''\u001b[39;00m\n\u001b[1;32m--> 364\u001b[0m     \u001b[38;5;28;01mreturn\u001b[39;00m \u001b[38;5;28;43mself\u001b[39;49m\u001b[38;5;241;43m.\u001b[39;49m\u001b[43m_map_async\u001b[49m\u001b[43m(\u001b[49m\u001b[43mfunc\u001b[49m\u001b[43m,\u001b[49m\u001b[43m \u001b[49m\u001b[43miterable\u001b[49m\u001b[43m,\u001b[49m\u001b[43m \u001b[49m\u001b[43mmapstar\u001b[49m\u001b[43m,\u001b[49m\u001b[43m \u001b[49m\u001b[43mchunksize\u001b[49m\u001b[43m)\u001b[49m\u001b[38;5;241;43m.\u001b[39;49m\u001b[43mget\u001b[49m\u001b[43m(\u001b[49m\u001b[43m)\u001b[49m\n",
      "File \u001b[1;32m~\\anaconda3\\lib\\multiprocessing\\pool.py:771\u001b[0m, in \u001b[0;36mApplyResult.get\u001b[1;34m(self, timeout)\u001b[0m\n\u001b[0;32m    769\u001b[0m     \u001b[38;5;28;01mreturn\u001b[39;00m \u001b[38;5;28mself\u001b[39m\u001b[38;5;241m.\u001b[39m_value\n\u001b[0;32m    770\u001b[0m \u001b[38;5;28;01melse\u001b[39;00m:\n\u001b[1;32m--> 771\u001b[0m     \u001b[38;5;28;01mraise\u001b[39;00m \u001b[38;5;28mself\u001b[39m\u001b[38;5;241m.\u001b[39m_value\n",
      "File \u001b[1;32m~\\anaconda3\\lib\\multiprocessing\\pool.py:125\u001b[0m, in \u001b[0;36mworker\u001b[1;34m()\u001b[0m\n\u001b[0;32m    123\u001b[0m job, i, func, args, kwds \u001b[38;5;241m=\u001b[39m task\n\u001b[0;32m    124\u001b[0m \u001b[38;5;28;01mtry\u001b[39;00m:\n\u001b[1;32m--> 125\u001b[0m     result \u001b[38;5;241m=\u001b[39m (\u001b[38;5;28;01mTrue\u001b[39;00m, func(\u001b[38;5;241m*\u001b[39margs, \u001b[38;5;241m*\u001b[39m\u001b[38;5;241m*\u001b[39mkwds))\n\u001b[0;32m    126\u001b[0m \u001b[38;5;28;01mexcept\u001b[39;00m \u001b[38;5;167;01mException\u001b[39;00m \u001b[38;5;28;01mas\u001b[39;00m e:\n\u001b[0;32m    127\u001b[0m     \u001b[38;5;28;01mif\u001b[39;00m wrap_exception \u001b[38;5;129;01mand\u001b[39;00m func \u001b[38;5;129;01mis\u001b[39;00m \u001b[38;5;129;01mnot\u001b[39;00m _helper_reraises_exception:\n",
      "File \u001b[1;32m~\\anaconda3\\lib\\multiprocessing\\pool.py:48\u001b[0m, in \u001b[0;36mmapstar\u001b[1;34m()\u001b[0m\n\u001b[0;32m     47\u001b[0m \u001b[38;5;28;01mdef\u001b[39;00m \u001b[38;5;21mmapstar\u001b[39m(args):\n\u001b[1;32m---> 48\u001b[0m     \u001b[38;5;28;01mreturn\u001b[39;00m \u001b[38;5;28mlist\u001b[39m(\u001b[38;5;28mmap\u001b[39m(\u001b[38;5;241m*\u001b[39margs))\n",
      "File \u001b[1;32m~\\anaconda3\\lib\\site-packages\\cmip6d\\cmip6d.py:178\u001b[0m, in \u001b[0;36mwork_log\u001b[1;34m()\u001b[0m\n\u001b[0;32m    177\u001b[0m \u001b[38;5;28;01mdef\u001b[39;00m \u001b[38;5;21mwork_log\u001b[39m(\u001b[38;5;28mself\u001b[39m,work_data): \u001b[38;5;66;03m# Created separate function as it was producing an error\u001b[39;00m\n\u001b[1;32m--> 178\u001b[0m     wget\u001b[38;5;241m.\u001b[39mdownload(work_data,\u001b[38;5;28mself\u001b[39m\u001b[38;5;241m.\u001b[39mvar_path)\n",
      "File \u001b[1;32m~\\anaconda3\\lib\\site-packages\\wget.py:526\u001b[0m, in \u001b[0;36mdownload\u001b[1;34m()\u001b[0m\n\u001b[0;32m    524\u001b[0m \u001b[38;5;28;01melse\u001b[39;00m:\n\u001b[0;32m    525\u001b[0m     binurl \u001b[38;5;241m=\u001b[39m url\n\u001b[1;32m--> 526\u001b[0m (tmpfile, headers) \u001b[38;5;241m=\u001b[39m ulib\u001b[38;5;241m.\u001b[39murlretrieve(binurl, tmpfile, callback)\n\u001b[0;32m    527\u001b[0m filename \u001b[38;5;241m=\u001b[39m detect_filename(url, out, headers)\n\u001b[0;32m    528\u001b[0m \u001b[38;5;28;01mif\u001b[39;00m outdir:\n",
      "File \u001b[1;32m~\\anaconda3\\lib\\urllib\\request.py:239\u001b[0m, in \u001b[0;36murlretrieve\u001b[1;34m()\u001b[0m\n\u001b[0;32m    222\u001b[0m \u001b[38;5;124;03m\"\"\"\u001b[39;00m\n\u001b[0;32m    223\u001b[0m \u001b[38;5;124;03mRetrieve a URL into a temporary location on disk.\u001b[39;00m\n\u001b[0;32m    224\u001b[0m \n\u001b[1;32m   (...)\u001b[0m\n\u001b[0;32m    235\u001b[0m \u001b[38;5;124;03mdata file as well as the resulting HTTPMessage object.\u001b[39;00m\n\u001b[0;32m    236\u001b[0m \u001b[38;5;124;03m\"\"\"\u001b[39;00m\n\u001b[0;32m    237\u001b[0m url_type, path \u001b[38;5;241m=\u001b[39m _splittype(url)\n\u001b[1;32m--> 239\u001b[0m \u001b[38;5;28;01mwith\u001b[39;00m contextlib\u001b[38;5;241m.\u001b[39mclosing(urlopen(url, data)) \u001b[38;5;28;01mas\u001b[39;00m fp:\n\u001b[0;32m    240\u001b[0m     headers \u001b[38;5;241m=\u001b[39m fp\u001b[38;5;241m.\u001b[39minfo()\n\u001b[0;32m    242\u001b[0m     \u001b[38;5;66;03m# Just return the local path and the \"headers\" for file://\u001b[39;00m\n\u001b[0;32m    243\u001b[0m     \u001b[38;5;66;03m# URLs. No sense in performing a copy unless requested.\u001b[39;00m\n",
      "File \u001b[1;32m~\\anaconda3\\lib\\urllib\\request.py:214\u001b[0m, in \u001b[0;36murlopen\u001b[1;34m()\u001b[0m\n\u001b[0;32m    212\u001b[0m \u001b[38;5;28;01melse\u001b[39;00m:\n\u001b[0;32m    213\u001b[0m     opener \u001b[38;5;241m=\u001b[39m _opener\n\u001b[1;32m--> 214\u001b[0m \u001b[38;5;28;01mreturn\u001b[39;00m opener\u001b[38;5;241m.\u001b[39mopen(url, data, timeout)\n",
      "File \u001b[1;32m~\\anaconda3\\lib\\urllib\\request.py:517\u001b[0m, in \u001b[0;36mopen\u001b[1;34m()\u001b[0m\n\u001b[0;32m    514\u001b[0m     req \u001b[38;5;241m=\u001b[39m meth(req)\n\u001b[0;32m    516\u001b[0m sys\u001b[38;5;241m.\u001b[39maudit(\u001b[38;5;124m'\u001b[39m\u001b[38;5;124murllib.Request\u001b[39m\u001b[38;5;124m'\u001b[39m, req\u001b[38;5;241m.\u001b[39mfull_url, req\u001b[38;5;241m.\u001b[39mdata, req\u001b[38;5;241m.\u001b[39mheaders, req\u001b[38;5;241m.\u001b[39mget_method())\n\u001b[1;32m--> 517\u001b[0m response \u001b[38;5;241m=\u001b[39m \u001b[38;5;28mself\u001b[39m\u001b[38;5;241m.\u001b[39m_open(req, data)\n\u001b[0;32m    519\u001b[0m \u001b[38;5;66;03m# post-process response\u001b[39;00m\n\u001b[0;32m    520\u001b[0m meth_name \u001b[38;5;241m=\u001b[39m protocol\u001b[38;5;241m+\u001b[39m\u001b[38;5;124m\"\u001b[39m\u001b[38;5;124m_response\u001b[39m\u001b[38;5;124m\"\u001b[39m\n",
      "File \u001b[1;32m~\\anaconda3\\lib\\urllib\\request.py:534\u001b[0m, in \u001b[0;36m_open\u001b[1;34m()\u001b[0m\n\u001b[0;32m    531\u001b[0m     \u001b[38;5;28;01mreturn\u001b[39;00m result\n\u001b[0;32m    533\u001b[0m protocol \u001b[38;5;241m=\u001b[39m req\u001b[38;5;241m.\u001b[39mtype\n\u001b[1;32m--> 534\u001b[0m result \u001b[38;5;241m=\u001b[39m \u001b[38;5;28mself\u001b[39m\u001b[38;5;241m.\u001b[39m_call_chain(\u001b[38;5;28mself\u001b[39m\u001b[38;5;241m.\u001b[39mhandle_open, protocol, protocol \u001b[38;5;241m+\u001b[39m\n\u001b[0;32m    535\u001b[0m                           \u001b[38;5;124m'\u001b[39m\u001b[38;5;124m_open\u001b[39m\u001b[38;5;124m'\u001b[39m, req)\n\u001b[0;32m    536\u001b[0m \u001b[38;5;28;01mif\u001b[39;00m result:\n\u001b[0;32m    537\u001b[0m     \u001b[38;5;28;01mreturn\u001b[39;00m result\n",
      "File \u001b[1;32m~\\anaconda3\\lib\\urllib\\request.py:494\u001b[0m, in \u001b[0;36m_call_chain\u001b[1;34m()\u001b[0m\n\u001b[0;32m    492\u001b[0m \u001b[38;5;28;01mfor\u001b[39;00m handler \u001b[38;5;129;01min\u001b[39;00m handlers:\n\u001b[0;32m    493\u001b[0m     func \u001b[38;5;241m=\u001b[39m \u001b[38;5;28mgetattr\u001b[39m(handler, meth_name)\n\u001b[1;32m--> 494\u001b[0m     result \u001b[38;5;241m=\u001b[39m func(\u001b[38;5;241m*\u001b[39margs)\n\u001b[0;32m    495\u001b[0m     \u001b[38;5;28;01mif\u001b[39;00m result \u001b[38;5;129;01mis\u001b[39;00m \u001b[38;5;129;01mnot\u001b[39;00m \u001b[38;5;28;01mNone\u001b[39;00m:\n\u001b[0;32m    496\u001b[0m         \u001b[38;5;28;01mreturn\u001b[39;00m result\n",
      "File \u001b[1;32m~\\anaconda3\\lib\\urllib\\request.py:1389\u001b[0m, in \u001b[0;36mhttps_open\u001b[1;34m()\u001b[0m\n\u001b[0;32m   1388\u001b[0m \u001b[38;5;28;01mdef\u001b[39;00m \u001b[38;5;21mhttps_open\u001b[39m(\u001b[38;5;28mself\u001b[39m, req):\n\u001b[1;32m-> 1389\u001b[0m     \u001b[38;5;28;01mreturn\u001b[39;00m \u001b[38;5;28mself\u001b[39m\u001b[38;5;241m.\u001b[39mdo_open(http\u001b[38;5;241m.\u001b[39mclient\u001b[38;5;241m.\u001b[39mHTTPSConnection, req,\n\u001b[0;32m   1390\u001b[0m         context\u001b[38;5;241m=\u001b[39m\u001b[38;5;28mself\u001b[39m\u001b[38;5;241m.\u001b[39m_context, check_hostname\u001b[38;5;241m=\u001b[39m\u001b[38;5;28mself\u001b[39m\u001b[38;5;241m.\u001b[39m_check_hostname)\n",
      "File \u001b[1;32m~\\anaconda3\\lib\\urllib\\request.py:1349\u001b[0m, in \u001b[0;36mdo_open\u001b[1;34m()\u001b[0m\n\u001b[0;32m   1346\u001b[0m         h\u001b[38;5;241m.\u001b[39mrequest(req\u001b[38;5;241m.\u001b[39mget_method(), req\u001b[38;5;241m.\u001b[39mselector, req\u001b[38;5;241m.\u001b[39mdata, headers,\n\u001b[0;32m   1347\u001b[0m                   encode_chunked\u001b[38;5;241m=\u001b[39mreq\u001b[38;5;241m.\u001b[39mhas_header(\u001b[38;5;124m'\u001b[39m\u001b[38;5;124mTransfer-encoding\u001b[39m\u001b[38;5;124m'\u001b[39m))\n\u001b[0;32m   1348\u001b[0m     \u001b[38;5;28;01mexcept\u001b[39;00m \u001b[38;5;167;01mOSError\u001b[39;00m \u001b[38;5;28;01mas\u001b[39;00m err: \u001b[38;5;66;03m# timeout error\u001b[39;00m\n\u001b[1;32m-> 1349\u001b[0m         \u001b[38;5;28;01mraise\u001b[39;00m URLError(err)\n\u001b[0;32m   1350\u001b[0m     r \u001b[38;5;241m=\u001b[39m h\u001b[38;5;241m.\u001b[39mgetresponse()\n\u001b[0;32m   1351\u001b[0m \u001b[38;5;28;01mexcept\u001b[39;00m:\n",
      "\u001b[1;31mURLError\u001b[0m: <urlopen error [WinError 10060] A connection attempt failed because the connected party did not properly respond after a period of time, or established connection failed because connected host has failed to respond>"
     ]
    }
   ],
   "source": [
    "#To download the links you need to specify a number of workers \"nworker\", which speeds up the download. Once completed these step you will have all the netcdf files for your climate change model, these can be loaded with xarray or whatever other method you prefer.\n",
    "cc.download_links(nworker=4)"
   ]
  },
  {
   "cell_type": "code",
   "execution_count": 14,
   "id": "90081579",
   "metadata": {},
   "outputs": [
    {
     "ename": "NameError",
     "evalue": "name 'cont' is not defined",
     "output_type": "error",
     "traceback": [
      "\u001b[1;31m---------------------------------------------------------------------------\u001b[0m",
      "\u001b[1;31mNameError\u001b[0m                                 Traceback (most recent call last)",
      "Cell \u001b[1;32mIn [14], line 2\u001b[0m\n\u001b[0;32m      1\u001b[0m \u001b[38;5;66;03m#If you want to merge the yearly individual \".nc\" files into one for each variable use:\u001b[39;00m\n\u001b[1;32m----> 2\u001b[0m cc\u001b[38;5;241m.\u001b[39mmerge_files(\u001b[43mcont\u001b[49m)\n",
      "\u001b[1;31mNameError\u001b[0m: name 'cont' is not defined"
     ]
    }
   ],
   "source": [
    "#If you want to merge the yearly individual \".nc\" files into one for each variable use:\n",
    "cc.merge_files(cont)"
   ]
  },
  {
   "cell_type": "code",
   "execution_count": 15,
   "id": "53283849",
   "metadata": {},
   "outputs": [
    {
     "ename": "NameError",
     "evalue": "name 'cont' is not defined",
     "output_type": "error",
     "traceback": [
      "\u001b[1;31m---------------------------------------------------------------------------\u001b[0m",
      "\u001b[1;31mNameError\u001b[0m                                 Traceback (most recent call last)",
      "Cell \u001b[1;32mIn [15], line 3\u001b[0m\n\u001b[0;32m      1\u001b[0m \u001b[38;5;66;03m#Additional steps\u001b[39;00m\n\u001b[0;32m      2\u001b[0m \u001b[38;5;66;03m#If you would like to get 2 \".csv\" files with coordinates of the following structure:\u001b[39;00m\n\u001b[1;32m----> 3\u001b[0m todel \u001b[38;5;241m=\u001b[39m cc\u001b[38;5;241m.\u001b[39mget_csv(\u001b[43mcont\u001b[49m)\n",
      "\u001b[1;31mNameError\u001b[0m: name 'cont' is not defined"
     ]
    }
   ],
   "source": [
    "#Additional steps\n",
    "#If you would like to get 2 \".csv\" files with coordinates of the following structure:\n",
    "todel = cc.get_csv(cont)"
   ]
  },
  {
   "cell_type": "code",
   "execution_count": null,
   "id": "ccd15163",
   "metadata": {},
   "outputs": [],
   "source": []
  }
 ],
 "metadata": {
  "kernelspec": {
   "display_name": "Python 3 (ipykernel)",
   "language": "python",
   "name": "python3"
  },
  "language_info": {
   "codemirror_mode": {
    "name": "ipython",
    "version": 3
   },
   "file_extension": ".py",
   "mimetype": "text/x-python",
   "name": "python",
   "nbconvert_exporter": "python",
   "pygments_lexer": "ipython3",
   "version": "3.9.15"
  }
 },
 "nbformat": 4,
 "nbformat_minor": 5
}
